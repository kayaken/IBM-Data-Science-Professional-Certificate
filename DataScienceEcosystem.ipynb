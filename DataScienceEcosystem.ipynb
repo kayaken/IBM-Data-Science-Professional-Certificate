{
 "cells": [
  {
   "cell_type": "markdown",
   "id": "ffa7c6cb-4da9-4fbe-b7c5-74427e333a46",
   "metadata": {},
   "source": [
    "# Data Science Tools and Ecosystem"
   ]
  },
  {
   "cell_type": "markdown",
   "id": "64013bac-b36d-42a6-81fb-c427448b68ee",
   "metadata": {},
   "source": [
    "## In this notebook, Data Science Tools and Ecosystem are summarized."
   ]
  },
  {
   "cell_type": "markdown",
   "id": "93cc2f62-6ab6-4092-943b-f83c01723c01",
   "metadata": {},
   "source": [
    "## Some of the popular languages that Data Scientists use are:\n",
    "1. **Python**\n",
    "2. **R**\n",
    "3. **SQL**"
   ]
  },
  {
   "cell_type": "markdown",
   "id": "2cdf4342-b229-4ffe-99fe-8a0518f8f326",
   "metadata": {},
   "source": [
    "## Some of the commonly used libraries used by Data Scientists include:\n",
    "1. **Pandas**\n",
    "2. **NumPy**\n",
    "3. **scikit-learn**\n",
    "4. **Matplotlib**\n",
    "5. **TensorFlow** "
   ]
  },
  {
   "cell_type": "markdown",
   "id": "28334522-f77f-4cab-9937-2777024795c4",
   "metadata": {},
   "source": [
    "| Data Science Tools             |\n",
    "|--------------------------------|\n",
    "| Jupyter Notebook               |\n",
    "| RStudio                        |\n",
    "| Apache Zeppelin                |"
   ]
  },
  {
   "cell_type": "markdown",
   "id": "69c9a3d6-86c6-4970-ba44-04d6b74dd75f",
   "metadata": {},
   "source": [
    "### Below are a few examples of evaluating arithmetic expressions in Python"
   ]
  },
  {
   "cell_type": "code",
   "execution_count": 17,
   "id": "2669a615-2e7b-4822-b66c-82acc7a8245b",
   "metadata": {},
   "outputs": [
    {
     "data": {
      "text/plain": [
       "17"
      ]
     },
     "execution_count": 17,
     "metadata": {},
     "output_type": "execute_result"
    }
   ],
   "source": [
    "# This a simple arithmetic expression to mutiply then add integers\n",
    "(3*4)+5"
   ]
  },
  {
   "cell_type": "code",
   "execution_count": 23,
   "id": "90007560-1db9-4c6c-860c-d95839cf7482",
   "metadata": {},
   "outputs": [
    {
     "data": {
      "text/plain": [
       "3.3333333333333335"
      ]
     },
     "execution_count": 23,
     "metadata": {},
     "output_type": "execute_result"
    }
   ],
   "source": [
    "# This will convert 200 minutes to hours by diving by 60\n",
    "hours = 200 / 60\n",
    "hours"
   ]
  },
  {
   "cell_type": "markdown",
   "id": "c26a98dc-0736-4003-a30e-92226db252ae",
   "metadata": {},
   "source": [
    "**Objectives:**\n",
    "\n",
    "- Python\n",
    "- R\n",
    "- SQLLn code\r\n"
   ]
  },
  {
   "cell_type": "markdown",
   "id": "3be71e1d-9aea-403f-b6e5-4dd4e8f5e1f0",
   "metadata": {},
   "source": [
    "## Author\n",
    "\n",
    "Ken Kaya\n"
   ]
  }
 ],
 "metadata": {
  "kernelspec": {
   "display_name": "Python 3 (ipykernel)",
   "language": "python",
   "name": "python3"
  },
  "language_info": {
   "codemirror_mode": {
    "name": "ipython",
    "version": 3
   },
   "file_extension": ".py",
   "mimetype": "text/x-python",
   "name": "python",
   "nbconvert_exporter": "python",
   "pygments_lexer": "ipython3",
   "version": "3.11.7"
  }
 },
 "nbformat": 4,
 "nbformat_minor": 5
}
